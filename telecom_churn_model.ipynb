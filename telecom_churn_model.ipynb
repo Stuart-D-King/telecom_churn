{
 "cells": [
  {
   "cell_type": "markdown",
   "metadata": {},
   "source": [
    "## Telecom Churn Modeling\n",
    "### Openly Take Home Challenge"
   ]
  },
  {
   "cell_type": "code",
   "execution_count": 1,
   "metadata": {
    "collapsed": false
   },
   "outputs": [],
   "source": [
    "import numpy as np\n",
    "import pandas as pd\n",
    "import matplotlib.pyplot as plt\n",
    "import seaborn as sns\n",
    "from sklearn.preprocessing import StandardScaler\n",
    "from sklearn.pipeline import Pipeline\n",
    "from sklearn.model_selection import train_test_split, cross_val_score, GridSearchCV\n",
    "from sklearn.impute import SimpleImputer\n",
    "from sklearn.compose import ColumnTransformer\n",
    "from sklearn.ensemble import RandomForestClassifier\n",
    "from sklearn.linear_model import LogisticRegression\n",
    "from sklearn.metrics import accuracy_score, classification_report\n",
    "\n",
    "% matplotlib inline"
   ]
  },
  {
   "cell_type": "markdown",
   "metadata": {},
   "source": [
    "### Table of Contents\n",
    "\n",
    "- Problem Statment\n",
    "- Getting the Data\n",
    "- Data Cleaning\n",
    "- Data Exploration\n",
    "- Data Transformation\n",
    "- Model Testing\n",
    "- Hyperparameter Tuning"
   ]
  },
  {
   "cell_type": "markdown",
   "metadata": {},
   "source": [
    "### Problem Statement & Objective\n",
    "\n",
    "A telecom provider would like to better understand its customer base and would like to know who are most likely to drop out from their service. The objective of this exercise is to understand what factors are driving customer churn and how the company can improve customer retention.\n",
    "\n",
    "A supervised classification modeling approach will be used to try to identify the underlying patterns and signal, if any, present within the data. It is assumed no previous efforts have been made regarding estimating churn propensity. A baseline result/statistic of the most common outcome will be used to gauge performance of more complex models."
   ]
  },
  {
   "cell_type": "markdown",
   "metadata": {},
   "source": [
    "### Getting the Data\n",
    "#### Data Dictionary"
   ]
  },
  {
   "cell_type": "code",
   "execution_count": 2,
   "metadata": {
    "collapsed": true
   },
   "outputs": [],
   "source": [
    "# directory where data is stored\n",
    "data_dir = 'data/'"
   ]
  },
  {
   "cell_type": "code",
   "execution_count": 3,
   "metadata": {
    "collapsed": false
   },
   "outputs": [
    {
     "data": {
      "text/html": [
       "<style  type=\"text/css\" >\n",
       "#T_ad553e3a_2a33_11ec_81bb_84383552af46row0_col0,#T_ad553e3a_2a33_11ec_81bb_84383552af46row0_col1,#T_ad553e3a_2a33_11ec_81bb_84383552af46row1_col0,#T_ad553e3a_2a33_11ec_81bb_84383552af46row1_col1,#T_ad553e3a_2a33_11ec_81bb_84383552af46row2_col0,#T_ad553e3a_2a33_11ec_81bb_84383552af46row2_col1,#T_ad553e3a_2a33_11ec_81bb_84383552af46row3_col0,#T_ad553e3a_2a33_11ec_81bb_84383552af46row3_col1,#T_ad553e3a_2a33_11ec_81bb_84383552af46row4_col0,#T_ad553e3a_2a33_11ec_81bb_84383552af46row4_col1,#T_ad553e3a_2a33_11ec_81bb_84383552af46row5_col0,#T_ad553e3a_2a33_11ec_81bb_84383552af46row5_col1,#T_ad553e3a_2a33_11ec_81bb_84383552af46row6_col0,#T_ad553e3a_2a33_11ec_81bb_84383552af46row6_col1,#T_ad553e3a_2a33_11ec_81bb_84383552af46row7_col0,#T_ad553e3a_2a33_11ec_81bb_84383552af46row7_col1,#T_ad553e3a_2a33_11ec_81bb_84383552af46row8_col0,#T_ad553e3a_2a33_11ec_81bb_84383552af46row8_col1,#T_ad553e3a_2a33_11ec_81bb_84383552af46row9_col0,#T_ad553e3a_2a33_11ec_81bb_84383552af46row9_col1,#T_ad553e3a_2a33_11ec_81bb_84383552af46row10_col0,#T_ad553e3a_2a33_11ec_81bb_84383552af46row10_col1,#T_ad553e3a_2a33_11ec_81bb_84383552af46row11_col0,#T_ad553e3a_2a33_11ec_81bb_84383552af46row11_col1,#T_ad553e3a_2a33_11ec_81bb_84383552af46row12_col0,#T_ad553e3a_2a33_11ec_81bb_84383552af46row12_col1,#T_ad553e3a_2a33_11ec_81bb_84383552af46row13_col0,#T_ad553e3a_2a33_11ec_81bb_84383552af46row13_col1,#T_ad553e3a_2a33_11ec_81bb_84383552af46row14_col0,#T_ad553e3a_2a33_11ec_81bb_84383552af46row14_col1,#T_ad553e3a_2a33_11ec_81bb_84383552af46row15_col0,#T_ad553e3a_2a33_11ec_81bb_84383552af46row15_col1,#T_ad553e3a_2a33_11ec_81bb_84383552af46row16_col0,#T_ad553e3a_2a33_11ec_81bb_84383552af46row16_col1,#T_ad553e3a_2a33_11ec_81bb_84383552af46row17_col0,#T_ad553e3a_2a33_11ec_81bb_84383552af46row17_col1,#T_ad553e3a_2a33_11ec_81bb_84383552af46row18_col0,#T_ad553e3a_2a33_11ec_81bb_84383552af46row18_col1,#T_ad553e3a_2a33_11ec_81bb_84383552af46row19_col0,#T_ad553e3a_2a33_11ec_81bb_84383552af46row19_col1,#T_ad553e3a_2a33_11ec_81bb_84383552af46row20_col0,#T_ad553e3a_2a33_11ec_81bb_84383552af46row20_col1{\n",
       "            text-align:  left;\n",
       "        }</style><table id=\"T_ad553e3a_2a33_11ec_81bb_84383552af46\" ><thead>    <tr>        <th class=\"col_heading level0 col0\" >variable_name</th>        <th class=\"col_heading level0 col1\" >definition</th>    </tr></thead><tbody>\n",
       "                <tr>\n",
       "                                <td id=\"T_ad553e3a_2a33_11ec_81bb_84383552af46row0_col0\" class=\"data row0 col0\" >CustomerID </td>\n",
       "                        <td id=\"T_ad553e3a_2a33_11ec_81bb_84383552af46row0_col1\" class=\"data row0 col1\" >The unique ID of each customer</td>\n",
       "            </tr>\n",
       "            <tr>\n",
       "                                <td id=\"T_ad553e3a_2a33_11ec_81bb_84383552af46row1_col0\" class=\"data row1 col0\" >Gender </td>\n",
       "                        <td id=\"T_ad553e3a_2a33_11ec_81bb_84383552af46row1_col1\" class=\"data row1 col1\" >The gender of a person</td>\n",
       "            </tr>\n",
       "            <tr>\n",
       "                                <td id=\"T_ad553e3a_2a33_11ec_81bb_84383552af46row2_col0\" class=\"data row2 col0\" >SeniorCitizen</td>\n",
       "                        <td id=\"T_ad553e3a_2a33_11ec_81bb_84383552af46row2_col1\" class=\"data row2 col1\" >Whether a customer can be classified as a senior citizen.</td>\n",
       "            </tr>\n",
       "            <tr>\n",
       "                                <td id=\"T_ad553e3a_2a33_11ec_81bb_84383552af46row3_col0\" class=\"data row3 col0\" >Partner </td>\n",
       "                        <td id=\"T_ad553e3a_2a33_11ec_81bb_84383552af46row3_col1\" class=\"data row3 col1\" >If a customer is married/ in a live-in relationship.</td>\n",
       "            </tr>\n",
       "            <tr>\n",
       "                                <td id=\"T_ad553e3a_2a33_11ec_81bb_84383552af46row4_col0\" class=\"data row4 col0\" >Dependents</td>\n",
       "                        <td id=\"T_ad553e3a_2a33_11ec_81bb_84383552af46row4_col1\" class=\"data row4 col1\" >If a customer has dependents (children/ retired parents)</td>\n",
       "            </tr>\n",
       "            <tr>\n",
       "                                <td id=\"T_ad553e3a_2a33_11ec_81bb_84383552af46row5_col0\" class=\"data row5 col0\" >Tenure</td>\n",
       "                        <td id=\"T_ad553e3a_2a33_11ec_81bb_84383552af46row5_col1\" class=\"data row5 col1\" >The time for which a customer has been using the service.</td>\n",
       "            </tr>\n",
       "            <tr>\n",
       "                                <td id=\"T_ad553e3a_2a33_11ec_81bb_84383552af46row6_col0\" class=\"data row6 col0\" >PhoneService  </td>\n",
       "                        <td id=\"T_ad553e3a_2a33_11ec_81bb_84383552af46row6_col1\" class=\"data row6 col1\" >Whether a customer has a landline phone service along with the internet service.</td>\n",
       "            </tr>\n",
       "            <tr>\n",
       "                                <td id=\"T_ad553e3a_2a33_11ec_81bb_84383552af46row7_col0\" class=\"data row7 col0\" >MultipleLines</td>\n",
       "                        <td id=\"T_ad553e3a_2a33_11ec_81bb_84383552af46row7_col1\" class=\"data row7 col1\" >Whether a customer has multiple lines of internet connectivity.</td>\n",
       "            </tr>\n",
       "            <tr>\n",
       "                                <td id=\"T_ad553e3a_2a33_11ec_81bb_84383552af46row8_col0\" class=\"data row8 col0\" >InternetService </td>\n",
       "                        <td id=\"T_ad553e3a_2a33_11ec_81bb_84383552af46row8_col1\" class=\"data row8 col1\" >The type of internet services chosen by the customer.</td>\n",
       "            </tr>\n",
       "            <tr>\n",
       "                                <td id=\"T_ad553e3a_2a33_11ec_81bb_84383552af46row9_col0\" class=\"data row9 col0\" >OnlineSecurity </td>\n",
       "                        <td id=\"T_ad553e3a_2a33_11ec_81bb_84383552af46row9_col1\" class=\"data row9 col1\" >Specifies if a customer has online security.</td>\n",
       "            </tr>\n",
       "            <tr>\n",
       "                                <td id=\"T_ad553e3a_2a33_11ec_81bb_84383552af46row10_col0\" class=\"data row10 col0\" >OnlineBackup </td>\n",
       "                        <td id=\"T_ad553e3a_2a33_11ec_81bb_84383552af46row10_col1\" class=\"data row10 col1\" >Specifies if a customer has online backup.</td>\n",
       "            </tr>\n",
       "            <tr>\n",
       "                                <td id=\"T_ad553e3a_2a33_11ec_81bb_84383552af46row11_col0\" class=\"data row11 col0\" >DeviceProtection </td>\n",
       "                        <td id=\"T_ad553e3a_2a33_11ec_81bb_84383552af46row11_col1\" class=\"data row11 col1\" >Specifies if a customer has opted for device protection.</td>\n",
       "            </tr>\n",
       "            <tr>\n",
       "                                <td id=\"T_ad553e3a_2a33_11ec_81bb_84383552af46row12_col0\" class=\"data row12 col0\" >TechSupport </td>\n",
       "                        <td id=\"T_ad553e3a_2a33_11ec_81bb_84383552af46row12_col1\" class=\"data row12 col1\" >Whether a customer has opted for tech support of not.</td>\n",
       "            </tr>\n",
       "            <tr>\n",
       "                                <td id=\"T_ad553e3a_2a33_11ec_81bb_84383552af46row13_col0\" class=\"data row13 col0\" >StreamingTV</td>\n",
       "                        <td id=\"T_ad553e3a_2a33_11ec_81bb_84383552af46row13_col1\" class=\"data row13 col1\" >Whether a customer has an option of TV streaming.</td>\n",
       "            </tr>\n",
       "            <tr>\n",
       "                                <td id=\"T_ad553e3a_2a33_11ec_81bb_84383552af46row14_col0\" class=\"data row14 col0\" >StreamingMovies </td>\n",
       "                        <td id=\"T_ad553e3a_2a33_11ec_81bb_84383552af46row14_col1\" class=\"data row14 col1\" >Whether a customer has an option of Movie streaming.</td>\n",
       "            </tr>\n",
       "            <tr>\n",
       "                                <td id=\"T_ad553e3a_2a33_11ec_81bb_84383552af46row15_col0\" class=\"data row15 col0\" >Contract  </td>\n",
       "                        <td id=\"T_ad553e3a_2a33_11ec_81bb_84383552af46row15_col1\" class=\"data row15 col1\" >The type of contract a customer has chosen.</td>\n",
       "            </tr>\n",
       "            <tr>\n",
       "                                <td id=\"T_ad553e3a_2a33_11ec_81bb_84383552af46row16_col0\" class=\"data row16 col0\" >PaperlessBilling  </td>\n",
       "                        <td id=\"T_ad553e3a_2a33_11ec_81bb_84383552af46row16_col1\" class=\"data row16 col1\" >Whether a customer has opted for paperless billing.</td>\n",
       "            </tr>\n",
       "            <tr>\n",
       "                                <td id=\"T_ad553e3a_2a33_11ec_81bb_84383552af46row17_col0\" class=\"data row17 col0\" >PaymentMethod </td>\n",
       "                        <td id=\"T_ad553e3a_2a33_11ec_81bb_84383552af46row17_col1\" class=\"data row17 col1\" >Specifies the method by which bills are paid.</td>\n",
       "            </tr>\n",
       "            <tr>\n",
       "                                <td id=\"T_ad553e3a_2a33_11ec_81bb_84383552af46row18_col0\" class=\"data row18 col0\" >MonthlyCharges </td>\n",
       "                        <td id=\"T_ad553e3a_2a33_11ec_81bb_84383552af46row18_col1\" class=\"data row18 col1\" >Specifies the money paid by a customer each month.</td>\n",
       "            </tr>\n",
       "            <tr>\n",
       "                                <td id=\"T_ad553e3a_2a33_11ec_81bb_84383552af46row19_col0\" class=\"data row19 col0\" >TotalCharges </td>\n",
       "                        <td id=\"T_ad553e3a_2a33_11ec_81bb_84383552af46row19_col1\" class=\"data row19 col1\" >The total money paid by the customer to the company.</td>\n",
       "            </tr>\n",
       "            <tr>\n",
       "                                <td id=\"T_ad553e3a_2a33_11ec_81bb_84383552af46row20_col0\" class=\"data row20 col0\" >Churn  </td>\n",
       "                        <td id=\"T_ad553e3a_2a33_11ec_81bb_84383552af46row20_col1\" class=\"data row20 col1\" >This is the target variable which specifies if a customer has churned or not.</td>\n",
       "            </tr>\n",
       "    </tbody></table>"
      ],
      "text/plain": [
       "<pandas.io.formats.style.Styler at 0x7f9bce3e63c8>"
      ]
     },
     "metadata": {},
     "output_type": "display_data"
    }
   ],
   "source": [
    "data_dct = pd.read_csv(data_dir + 'data_dictionary.csv', encoding='ISO-8859-1')\n",
    "data_dct.drop('S.No.', axis=1, inplace=True)\n",
    "data_dct.columns = ['variable_name', 'definition']\n",
    "data_dct_styler = data_dct.style.set_properties(**{'text-align': 'left'})\n",
    "display(data_dct_styler.hide_index())"
   ]
  },
  {
   "cell_type": "markdown",
   "metadata": {},
   "source": [
    "Potential multicolinearity between the following variable pairs:\n",
    "- `Partner` : `Dependents`\n",
    "- `OnlineSecurity` : `OnlineBackup`\n",
    "- `Tenure` : `TotalCharges`"
   ]
  },
  {
   "cell_type": "code",
   "execution_count": 4,
   "metadata": {
    "collapsed": false
   },
   "outputs": [
    {
     "name": "stdout",
     "output_type": "stream",
     "text": [
      "| variable_name    | definition                                                                       |\n",
      "|:-----------------|:---------------------------------------------------------------------------------|\n",
      "| CustomerID       | The unique ID of each customer                                                   |\n",
      "| Gender           | The gender of a person                                                           |\n",
      "| SeniorCitizen    | Whether a customer can be classified as a senior citizen.                        |\n",
      "| Partner          | If a customer is married/ in a live-in relationship.                             |\n",
      "| Dependents       | If a customer has dependents (children/ retired parents)                         |\n",
      "| Tenure           | The time for which a customer has been using the service.                        |\n",
      "| PhoneService     | Whether a customer has a landline phone service along with the internet service. |\n",
      "| MultipleLines    | Whether a customer has multiple lines of internet connectivity.                  |\n",
      "| InternetService  | The type of internet services chosen by the customer.                            |\n",
      "| OnlineSecurity   | Specifies if a customer has online security.                                     |\n",
      "| OnlineBackup     | Specifies if a customer has online backup.                                       |\n",
      "| DeviceProtection | Specifies if a customer has opted for device protection.                         |\n",
      "| TechSupport      | Whether a customer has opted for tech support of not.                            |\n",
      "| StreamingTV      | Whether a customer has an option of TV streaming.                                |\n",
      "| StreamingMovies  | Whether a customer has an option of Movie streaming.                             |\n",
      "| Contract         | The type of contract a customer has chosen.                                      |\n",
      "| PaperlessBilling | Whether a customer has opted for paperless billing.                              |\n",
      "| PaymentMethod    | Specifies the method by which bills are paid.                                    |\n",
      "| MonthlyCharges   | Specifies the money paid by a customer each month.                               |\n",
      "| TotalCharges     | The total money paid by the customer to the company.                             |\n",
      "| Churn            | This is the target variable which specifies if a customer has churned or not.    |\n"
     ]
    }
   ],
   "source": [
    "# used in README file\n",
    "print(data_dct.to_markdown(index=False))"
   ]
  },
  {
   "cell_type": "code",
   "execution_count": 5,
   "metadata": {
    "collapsed": true
   },
   "outputs": [],
   "source": [
    "import re\n",
    "\n",
    "def camel_to_snake(t):\n",
    "    ''' https://stackoverflow.com/questions/1175208/elegant-python-function-to-convert-camelcase-to-snake-case '''\n",
    "    s = re.sub('(.)([A-Z][a-z]+)', r'\\1_\\2', t)\n",
    "    s = re.sub('([a-z0-9])([A-Z])', r'\\1_\\2', s).lower()\n",
    "    return s"
   ]
  },
  {
   "cell_type": "code",
   "execution_count": 6,
   "metadata": {
    "collapsed": false
   },
   "outputs": [],
   "source": [
    "df_customer = pd.read_csv(data_dir + 'customer_data.csv')\n",
    "df_customer.columns = [camel_to_snake(x) for x in df_customer.columns]\n",
    "\n",
    "df_internet = pd.read_csv(data_dir + 'internet_data.csv')\n",
    "df_internet.columns = [camel_to_snake(x) for x in df_internet.columns]\n",
    "\n",
    "df_churn = pd.read_csv(data_dir + 'churn_data.csv')\n",
    "df_churn.columns = [camel_to_snake(x) for x in df_churn.columns]"
   ]
  },
  {
   "cell_type": "code",
   "execution_count": 7,
   "metadata": {
    "collapsed": true
   },
   "outputs": [],
   "source": [
    "df = df_customer.merge(df_internet, on='customer_id').merge(df_churn, on='customer_id')\n",
    "df.drop('customer_id', axis=1, inplace=True)"
   ]
  },
  {
   "cell_type": "code",
   "execution_count": 8,
   "metadata": {
    "collapsed": false
   },
   "outputs": [
    {
     "name": "stdout",
     "output_type": "stream",
     "text": [
      "<class 'pandas.core.frame.DataFrame'>\n",
      "Int64Index: 7043 entries, 0 to 7042\n",
      "Data columns (total 20 columns):\n",
      " #   Column             Non-Null Count  Dtype  \n",
      "---  ------             --------------  -----  \n",
      " 0   gender             7043 non-null   object \n",
      " 1   senior_citizen     7043 non-null   int64  \n",
      " 2   partner            7043 non-null   object \n",
      " 3   dependents         7043 non-null   object \n",
      " 4   multiple_lines     7043 non-null   object \n",
      " 5   internet_service   7043 non-null   object \n",
      " 6   online_security    7043 non-null   object \n",
      " 7   online_backup      7043 non-null   object \n",
      " 8   device_protection  7043 non-null   object \n",
      " 9   tech_support       7043 non-null   object \n",
      " 10  streaming_tv       7043 non-null   object \n",
      " 11  streaming_movies   7043 non-null   object \n",
      " 12  tenure             7043 non-null   int64  \n",
      " 13  phone_service      7043 non-null   object \n",
      " 14  contract           7043 non-null   object \n",
      " 15  paperless_billing  7043 non-null   object \n",
      " 16  payment_method     7043 non-null   object \n",
      " 17  monthly_charges    7043 non-null   float64\n",
      " 18  total_charges      7043 non-null   object \n",
      " 19  churn              7043 non-null   object \n",
      "dtypes: float64(1), int64(2), object(17)\n",
      "memory usage: 1.1+ MB\n"
     ]
    }
   ],
   "source": [
    "df.info()"
   ]
  },
  {
   "cell_type": "code",
   "execution_count": 9,
   "metadata": {
    "collapsed": false
   },
   "outputs": [
    {
     "data": {
      "text/html": [
       "<div>\n",
       "<style scoped>\n",
       "    .dataframe tbody tr th:only-of-type {\n",
       "        vertical-align: middle;\n",
       "    }\n",
       "\n",
       "    .dataframe tbody tr th {\n",
       "        vertical-align: top;\n",
       "    }\n",
       "\n",
       "    .dataframe thead th {\n",
       "        text-align: right;\n",
       "    }\n",
       "</style>\n",
       "<table border=\"1\" class=\"dataframe\">\n",
       "  <thead>\n",
       "    <tr style=\"text-align: right;\">\n",
       "      <th></th>\n",
       "      <th>gender</th>\n",
       "      <th>senior_citizen</th>\n",
       "      <th>partner</th>\n",
       "      <th>dependents</th>\n",
       "      <th>multiple_lines</th>\n",
       "      <th>internet_service</th>\n",
       "      <th>online_security</th>\n",
       "      <th>online_backup</th>\n",
       "      <th>device_protection</th>\n",
       "      <th>tech_support</th>\n",
       "      <th>streaming_tv</th>\n",
       "      <th>streaming_movies</th>\n",
       "      <th>tenure</th>\n",
       "      <th>phone_service</th>\n",
       "      <th>contract</th>\n",
       "      <th>paperless_billing</th>\n",
       "      <th>payment_method</th>\n",
       "      <th>monthly_charges</th>\n",
       "      <th>total_charges</th>\n",
       "      <th>churn</th>\n",
       "    </tr>\n",
       "  </thead>\n",
       "  <tbody>\n",
       "    <tr>\n",
       "      <th>0</th>\n",
       "      <td>Female</td>\n",
       "      <td>0</td>\n",
       "      <td>Yes</td>\n",
       "      <td>No</td>\n",
       "      <td>No phone service</td>\n",
       "      <td>DSL</td>\n",
       "      <td>No</td>\n",
       "      <td>Yes</td>\n",
       "      <td>No</td>\n",
       "      <td>No</td>\n",
       "      <td>No</td>\n",
       "      <td>No</td>\n",
       "      <td>1</td>\n",
       "      <td>No</td>\n",
       "      <td>Month-to-month</td>\n",
       "      <td>Yes</td>\n",
       "      <td>Electronic check</td>\n",
       "      <td>29.85</td>\n",
       "      <td>29.85</td>\n",
       "      <td>No</td>\n",
       "    </tr>\n",
       "    <tr>\n",
       "      <th>1</th>\n",
       "      <td>Male</td>\n",
       "      <td>0</td>\n",
       "      <td>No</td>\n",
       "      <td>No</td>\n",
       "      <td>No</td>\n",
       "      <td>DSL</td>\n",
       "      <td>Yes</td>\n",
       "      <td>No</td>\n",
       "      <td>Yes</td>\n",
       "      <td>No</td>\n",
       "      <td>No</td>\n",
       "      <td>No</td>\n",
       "      <td>34</td>\n",
       "      <td>Yes</td>\n",
       "      <td>One year</td>\n",
       "      <td>No</td>\n",
       "      <td>Mailed check</td>\n",
       "      <td>56.95</td>\n",
       "      <td>1889.5</td>\n",
       "      <td>No</td>\n",
       "    </tr>\n",
       "    <tr>\n",
       "      <th>2</th>\n",
       "      <td>Male</td>\n",
       "      <td>0</td>\n",
       "      <td>No</td>\n",
       "      <td>No</td>\n",
       "      <td>No</td>\n",
       "      <td>DSL</td>\n",
       "      <td>Yes</td>\n",
       "      <td>Yes</td>\n",
       "      <td>No</td>\n",
       "      <td>No</td>\n",
       "      <td>No</td>\n",
       "      <td>No</td>\n",
       "      <td>2</td>\n",
       "      <td>Yes</td>\n",
       "      <td>Month-to-month</td>\n",
       "      <td>Yes</td>\n",
       "      <td>Mailed check</td>\n",
       "      <td>53.85</td>\n",
       "      <td>108.15</td>\n",
       "      <td>Yes</td>\n",
       "    </tr>\n",
       "    <tr>\n",
       "      <th>3</th>\n",
       "      <td>Male</td>\n",
       "      <td>0</td>\n",
       "      <td>No</td>\n",
       "      <td>No</td>\n",
       "      <td>No phone service</td>\n",
       "      <td>DSL</td>\n",
       "      <td>Yes</td>\n",
       "      <td>No</td>\n",
       "      <td>Yes</td>\n",
       "      <td>Yes</td>\n",
       "      <td>No</td>\n",
       "      <td>No</td>\n",
       "      <td>45</td>\n",
       "      <td>No</td>\n",
       "      <td>One year</td>\n",
       "      <td>No</td>\n",
       "      <td>Bank transfer (automatic)</td>\n",
       "      <td>42.30</td>\n",
       "      <td>1840.75</td>\n",
       "      <td>No</td>\n",
       "    </tr>\n",
       "    <tr>\n",
       "      <th>4</th>\n",
       "      <td>Female</td>\n",
       "      <td>0</td>\n",
       "      <td>No</td>\n",
       "      <td>No</td>\n",
       "      <td>No</td>\n",
       "      <td>Fiber optic</td>\n",
       "      <td>No</td>\n",
       "      <td>No</td>\n",
       "      <td>No</td>\n",
       "      <td>No</td>\n",
       "      <td>No</td>\n",
       "      <td>No</td>\n",
       "      <td>2</td>\n",
       "      <td>Yes</td>\n",
       "      <td>Month-to-month</td>\n",
       "      <td>Yes</td>\n",
       "      <td>Electronic check</td>\n",
       "      <td>70.70</td>\n",
       "      <td>151.65</td>\n",
       "      <td>Yes</td>\n",
       "    </tr>\n",
       "  </tbody>\n",
       "</table>\n",
       "</div>"
      ],
      "text/plain": [
       "   gender  senior_citizen partner dependents    multiple_lines  \\\n",
       "0  Female               0     Yes         No  No phone service   \n",
       "1    Male               0      No         No                No   \n",
       "2    Male               0      No         No                No   \n",
       "3    Male               0      No         No  No phone service   \n",
       "4  Female               0      No         No                No   \n",
       "\n",
       "  internet_service online_security online_backup device_protection  \\\n",
       "0              DSL              No           Yes                No   \n",
       "1              DSL             Yes            No               Yes   \n",
       "2              DSL             Yes           Yes                No   \n",
       "3              DSL             Yes            No               Yes   \n",
       "4      Fiber optic              No            No                No   \n",
       "\n",
       "  tech_support streaming_tv streaming_movies  tenure phone_service  \\\n",
       "0           No           No               No       1            No   \n",
       "1           No           No               No      34           Yes   \n",
       "2           No           No               No       2           Yes   \n",
       "3          Yes           No               No      45            No   \n",
       "4           No           No               No       2           Yes   \n",
       "\n",
       "         contract paperless_billing             payment_method  \\\n",
       "0  Month-to-month               Yes           Electronic check   \n",
       "1        One year                No               Mailed check   \n",
       "2  Month-to-month               Yes               Mailed check   \n",
       "3        One year                No  Bank transfer (automatic)   \n",
       "4  Month-to-month               Yes           Electronic check   \n",
       "\n",
       "   monthly_charges total_charges churn  \n",
       "0            29.85         29.85    No  \n",
       "1            56.95        1889.5    No  \n",
       "2            53.85        108.15   Yes  \n",
       "3            42.30       1840.75    No  \n",
       "4            70.70        151.65   Yes  "
      ]
     },
     "execution_count": 9,
     "metadata": {},
     "output_type": "execute_result"
    }
   ],
   "source": [
    "df.head()"
   ]
  },
  {
   "cell_type": "markdown",
   "metadata": {},
   "source": [
    "### Data Cleaning"
   ]
  },
  {
   "cell_type": "code",
   "execution_count": 10,
   "metadata": {
    "collapsed": false
   },
   "outputs": [],
   "source": [
    "df_clean = df.copy()"
   ]
  },
  {
   "cell_type": "code",
   "execution_count": 11,
   "metadata": {
    "collapsed": false
   },
   "outputs": [],
   "source": [
    "# provides ValueError: Unable to parse string \" \" at position 488\n",
    "# df[['total_charges']] = df[['total_charges']].apply(pd.to_numeric)"
   ]
  },
  {
   "cell_type": "code",
   "execution_count": 12,
   "metadata": {
    "collapsed": false
   },
   "outputs": [
    {
     "data": {
      "text/plain": [
       "' '"
      ]
     },
     "execution_count": 12,
     "metadata": {},
     "output_type": "execute_result"
    }
   ],
   "source": [
    "df_clean.total_charges[488]"
   ]
  },
  {
   "cell_type": "code",
   "execution_count": 13,
   "metadata": {
    "collapsed": false
   },
   "outputs": [],
   "source": [
    "# replace blank strings with '0' and then convert column to numeric (float)\n",
    "df_clean.total_charges = df_clean.total_charges.replace([' '], '0')\n",
    "df_clean[['total_charges']] = df_clean[['total_charges']].apply(pd.to_numeric)"
   ]
  },
  {
   "cell_type": "code",
   "execution_count": 14,
   "metadata": {
    "collapsed": false
   },
   "outputs": [
    {
     "data": {
      "text/plain": [
       "dtype('float64')"
      ]
     },
     "execution_count": 14,
     "metadata": {},
     "output_type": "execute_result"
    }
   ],
   "source": [
    "df_clean.total_charges.dtype"
   ]
  },
  {
   "cell_type": "code",
   "execution_count": 15,
   "metadata": {
    "collapsed": true
   },
   "outputs": [],
   "source": [
    "categorical_features = ['internet_service', 'contract', 'payment_method']\n",
    "boolean_features = ['gender', 'senior_citizen', 'partner', 'dependents','multiple_lines', 'online_security', \\\n",
    "                    'online_backup', 'phone_service', 'paperless_billing',  'device_protection', \\\n",
    "                    'tech_support', 'streaming_tv', 'streaming_movies', 'churn']"
   ]
  },
  {
   "cell_type": "code",
   "execution_count": 16,
   "metadata": {
    "collapsed": false
   },
   "outputs": [],
   "source": [
    "def boolean_encode(df, cols):\n",
    "    for col in cols:\n",
    "        df[col] = np.where((df[col] == 'Male') | (df[col] == 'Yes') | (df[col] == 1), 1, 0)\n",
    "    return df"
   ]
  },
  {
   "cell_type": "code",
   "execution_count": 17,
   "metadata": {
    "collapsed": false
   },
   "outputs": [],
   "source": [
    "df_clean = boolean_encode(df_clean, boolean_features)"
   ]
  },
  {
   "cell_type": "code",
   "execution_count": 18,
   "metadata": {
    "collapsed": false
   },
   "outputs": [
    {
     "name": "stdout",
     "output_type": "stream",
     "text": [
      "<class 'pandas.core.frame.DataFrame'>\n",
      "Int64Index: 7043 entries, 0 to 7042\n",
      "Data columns (total 20 columns):\n",
      " #   Column             Non-Null Count  Dtype  \n",
      "---  ------             --------------  -----  \n",
      " 0   gender             7043 non-null   int64  \n",
      " 1   senior_citizen     7043 non-null   int64  \n",
      " 2   partner            7043 non-null   int64  \n",
      " 3   dependents         7043 non-null   int64  \n",
      " 4   multiple_lines     7043 non-null   int64  \n",
      " 5   internet_service   7043 non-null   object \n",
      " 6   online_security    7043 non-null   int64  \n",
      " 7   online_backup      7043 non-null   int64  \n",
      " 8   device_protection  7043 non-null   int64  \n",
      " 9   tech_support       7043 non-null   int64  \n",
      " 10  streaming_tv       7043 non-null   int64  \n",
      " 11  streaming_movies   7043 non-null   int64  \n",
      " 12  tenure             7043 non-null   int64  \n",
      " 13  phone_service      7043 non-null   int64  \n",
      " 14  contract           7043 non-null   object \n",
      " 15  paperless_billing  7043 non-null   int64  \n",
      " 16  payment_method     7043 non-null   object \n",
      " 17  monthly_charges    7043 non-null   float64\n",
      " 18  total_charges      7043 non-null   float64\n",
      " 19  churn              7043 non-null   int64  \n",
      "dtypes: float64(2), int64(15), object(3)\n",
      "memory usage: 1.4+ MB\n"
     ]
    }
   ],
   "source": [
    "df_clean.info()"
   ]
  },
  {
   "cell_type": "code",
   "execution_count": 19,
   "metadata": {
    "collapsed": false
   },
   "outputs": [],
   "source": [
    "df_dummies = pd.get_dummies(df_clean[categorical_features])\n",
    "df_dummies.columns = [c.lower().replace(' ', '_').replace('-', '_').replace(')','').replace('(','') \\\n",
    "                      for c in df_dummies.columns]"
   ]
  },
  {
   "cell_type": "code",
   "execution_count": 20,
   "metadata": {
    "collapsed": false
   },
   "outputs": [
    {
     "name": "stdout",
     "output_type": "stream",
     "text": [
      "<class 'pandas.core.frame.DataFrame'>\n",
      "Int64Index: 7043 entries, 0 to 7042\n",
      "Data columns (total 10 columns):\n",
      " #   Column                                  Non-Null Count  Dtype\n",
      "---  ------                                  --------------  -----\n",
      " 0   internet_service_dsl                    7043 non-null   uint8\n",
      " 1   internet_service_fiber_optic            7043 non-null   uint8\n",
      " 2   internet_service_no                     7043 non-null   uint8\n",
      " 3   contract_month_to_month                 7043 non-null   uint8\n",
      " 4   contract_one_year                       7043 non-null   uint8\n",
      " 5   contract_two_year                       7043 non-null   uint8\n",
      " 6   payment_method_bank_transfer_automatic  7043 non-null   uint8\n",
      " 7   payment_method_credit_card_automatic    7043 non-null   uint8\n",
      " 8   payment_method_electronic_check         7043 non-null   uint8\n",
      " 9   payment_method_mailed_check             7043 non-null   uint8\n",
      "dtypes: uint8(10)\n",
      "memory usage: 443.8 KB\n"
     ]
    }
   ],
   "source": [
    "df_dummies.info()"
   ]
  },
  {
   "cell_type": "code",
   "execution_count": 21,
   "metadata": {
    "collapsed": false
   },
   "outputs": [
    {
     "name": "stdout",
     "output_type": "stream",
     "text": [
      "<class 'pandas.core.frame.DataFrame'>\n",
      "Int64Index: 7043 entries, 0 to 7042\n",
      "Data columns (total 27 columns):\n",
      " #   Column                                  Non-Null Count  Dtype  \n",
      "---  ------                                  --------------  -----  \n",
      " 0   gender                                  7043 non-null   int64  \n",
      " 1   senior_citizen                          7043 non-null   int64  \n",
      " 2   partner                                 7043 non-null   int64  \n",
      " 3   dependents                              7043 non-null   int64  \n",
      " 4   multiple_lines                          7043 non-null   int64  \n",
      " 5   online_security                         7043 non-null   int64  \n",
      " 6   online_backup                           7043 non-null   int64  \n",
      " 7   device_protection                       7043 non-null   int64  \n",
      " 8   tech_support                            7043 non-null   int64  \n",
      " 9   streaming_tv                            7043 non-null   int64  \n",
      " 10  streaming_movies                        7043 non-null   int64  \n",
      " 11  tenure                                  7043 non-null   int64  \n",
      " 12  phone_service                           7043 non-null   int64  \n",
      " 13  paperless_billing                       7043 non-null   int64  \n",
      " 14  monthly_charges                         7043 non-null   float64\n",
      " 15  total_charges                           7043 non-null   float64\n",
      " 16  churn                                   7043 non-null   int64  \n",
      " 17  internet_service_dsl                    7043 non-null   uint8  \n",
      " 18  internet_service_fiber_optic            7043 non-null   uint8  \n",
      " 19  internet_service_no                     7043 non-null   uint8  \n",
      " 20  contract_month_to_month                 7043 non-null   uint8  \n",
      " 21  contract_one_year                       7043 non-null   uint8  \n",
      " 22  contract_two_year                       7043 non-null   uint8  \n",
      " 23  payment_method_bank_transfer_automatic  7043 non-null   uint8  \n",
      " 24  payment_method_credit_card_automatic    7043 non-null   uint8  \n",
      " 25  payment_method_electronic_check         7043 non-null   uint8  \n",
      " 26  payment_method_mailed_check             7043 non-null   uint8  \n",
      "dtypes: float64(2), int64(15), uint8(10)\n",
      "memory usage: 1.3 MB\n"
     ]
    }
   ],
   "source": [
    "df_clean = pd.concat([df_clean, df_dummies], axis=1)\n",
    "df_clean = df_clean.drop(categorical_features, axis=1)\n",
    "df_clean.info()"
   ]
  },
  {
   "cell_type": "code",
   "execution_count": 22,
   "metadata": {
    "collapsed": false
   },
   "outputs": [
    {
     "data": {
      "text/html": [
       "<div>\n",
       "<style scoped>\n",
       "    .dataframe tbody tr th:only-of-type {\n",
       "        vertical-align: middle;\n",
       "    }\n",
       "\n",
       "    .dataframe tbody tr th {\n",
       "        vertical-align: top;\n",
       "    }\n",
       "\n",
       "    .dataframe thead th {\n",
       "        text-align: right;\n",
       "    }\n",
       "</style>\n",
       "<table border=\"1\" class=\"dataframe\">\n",
       "  <thead>\n",
       "    <tr style=\"text-align: right;\">\n",
       "      <th></th>\n",
       "      <th>gender</th>\n",
       "      <th>senior_citizen</th>\n",
       "      <th>partner</th>\n",
       "      <th>dependents</th>\n",
       "      <th>multiple_lines</th>\n",
       "      <th>online_security</th>\n",
       "      <th>online_backup</th>\n",
       "      <th>device_protection</th>\n",
       "      <th>tech_support</th>\n",
       "      <th>streaming_tv</th>\n",
       "      <th>...</th>\n",
       "      <th>internet_service_dsl</th>\n",
       "      <th>internet_service_fiber_optic</th>\n",
       "      <th>internet_service_no</th>\n",
       "      <th>contract_month_to_month</th>\n",
       "      <th>contract_one_year</th>\n",
       "      <th>contract_two_year</th>\n",
       "      <th>payment_method_bank_transfer_automatic</th>\n",
       "      <th>payment_method_credit_card_automatic</th>\n",
       "      <th>payment_method_electronic_check</th>\n",
       "      <th>payment_method_mailed_check</th>\n",
       "    </tr>\n",
       "  </thead>\n",
       "  <tbody>\n",
       "    <tr>\n",
       "      <th>0</th>\n",
       "      <td>0</td>\n",
       "      <td>0</td>\n",
       "      <td>1</td>\n",
       "      <td>0</td>\n",
       "      <td>0</td>\n",
       "      <td>0</td>\n",
       "      <td>1</td>\n",
       "      <td>0</td>\n",
       "      <td>0</td>\n",
       "      <td>0</td>\n",
       "      <td>...</td>\n",
       "      <td>1</td>\n",
       "      <td>0</td>\n",
       "      <td>0</td>\n",
       "      <td>1</td>\n",
       "      <td>0</td>\n",
       "      <td>0</td>\n",
       "      <td>0</td>\n",
       "      <td>0</td>\n",
       "      <td>1</td>\n",
       "      <td>0</td>\n",
       "    </tr>\n",
       "    <tr>\n",
       "      <th>1</th>\n",
       "      <td>1</td>\n",
       "      <td>0</td>\n",
       "      <td>0</td>\n",
       "      <td>0</td>\n",
       "      <td>0</td>\n",
       "      <td>1</td>\n",
       "      <td>0</td>\n",
       "      <td>1</td>\n",
       "      <td>0</td>\n",
       "      <td>0</td>\n",
       "      <td>...</td>\n",
       "      <td>1</td>\n",
       "      <td>0</td>\n",
       "      <td>0</td>\n",
       "      <td>0</td>\n",
       "      <td>1</td>\n",
       "      <td>0</td>\n",
       "      <td>0</td>\n",
       "      <td>0</td>\n",
       "      <td>0</td>\n",
       "      <td>1</td>\n",
       "    </tr>\n",
       "    <tr>\n",
       "      <th>2</th>\n",
       "      <td>1</td>\n",
       "      <td>0</td>\n",
       "      <td>0</td>\n",
       "      <td>0</td>\n",
       "      <td>0</td>\n",
       "      <td>1</td>\n",
       "      <td>1</td>\n",
       "      <td>0</td>\n",
       "      <td>0</td>\n",
       "      <td>0</td>\n",
       "      <td>...</td>\n",
       "      <td>1</td>\n",
       "      <td>0</td>\n",
       "      <td>0</td>\n",
       "      <td>1</td>\n",
       "      <td>0</td>\n",
       "      <td>0</td>\n",
       "      <td>0</td>\n",
       "      <td>0</td>\n",
       "      <td>0</td>\n",
       "      <td>1</td>\n",
       "    </tr>\n",
       "    <tr>\n",
       "      <th>3</th>\n",
       "      <td>1</td>\n",
       "      <td>0</td>\n",
       "      <td>0</td>\n",
       "      <td>0</td>\n",
       "      <td>0</td>\n",
       "      <td>1</td>\n",
       "      <td>0</td>\n",
       "      <td>1</td>\n",
       "      <td>1</td>\n",
       "      <td>0</td>\n",
       "      <td>...</td>\n",
       "      <td>1</td>\n",
       "      <td>0</td>\n",
       "      <td>0</td>\n",
       "      <td>0</td>\n",
       "      <td>1</td>\n",
       "      <td>0</td>\n",
       "      <td>1</td>\n",
       "      <td>0</td>\n",
       "      <td>0</td>\n",
       "      <td>0</td>\n",
       "    </tr>\n",
       "    <tr>\n",
       "      <th>4</th>\n",
       "      <td>0</td>\n",
       "      <td>0</td>\n",
       "      <td>0</td>\n",
       "      <td>0</td>\n",
       "      <td>0</td>\n",
       "      <td>0</td>\n",
       "      <td>0</td>\n",
       "      <td>0</td>\n",
       "      <td>0</td>\n",
       "      <td>0</td>\n",
       "      <td>...</td>\n",
       "      <td>0</td>\n",
       "      <td>1</td>\n",
       "      <td>0</td>\n",
       "      <td>1</td>\n",
       "      <td>0</td>\n",
       "      <td>0</td>\n",
       "      <td>0</td>\n",
       "      <td>0</td>\n",
       "      <td>1</td>\n",
       "      <td>0</td>\n",
       "    </tr>\n",
       "  </tbody>\n",
       "</table>\n",
       "<p>5 rows × 27 columns</p>\n",
       "</div>"
      ],
      "text/plain": [
       "   gender  senior_citizen  partner  dependents  multiple_lines  \\\n",
       "0       0               0        1           0               0   \n",
       "1       1               0        0           0               0   \n",
       "2       1               0        0           0               0   \n",
       "3       1               0        0           0               0   \n",
       "4       0               0        0           0               0   \n",
       "\n",
       "   online_security  online_backup  device_protection  tech_support  \\\n",
       "0                0              1                  0             0   \n",
       "1                1              0                  1             0   \n",
       "2                1              1                  0             0   \n",
       "3                1              0                  1             1   \n",
       "4                0              0                  0             0   \n",
       "\n",
       "   streaming_tv  ...  internet_service_dsl  internet_service_fiber_optic  \\\n",
       "0             0  ...                     1                             0   \n",
       "1             0  ...                     1                             0   \n",
       "2             0  ...                     1                             0   \n",
       "3             0  ...                     1                             0   \n",
       "4             0  ...                     0                             1   \n",
       "\n",
       "   internet_service_no  contract_month_to_month  contract_one_year  \\\n",
       "0                    0                        1                  0   \n",
       "1                    0                        0                  1   \n",
       "2                    0                        1                  0   \n",
       "3                    0                        0                  1   \n",
       "4                    0                        1                  0   \n",
       "\n",
       "   contract_two_year  payment_method_bank_transfer_automatic  \\\n",
       "0                  0                                       0   \n",
       "1                  0                                       0   \n",
       "2                  0                                       0   \n",
       "3                  0                                       1   \n",
       "4                  0                                       0   \n",
       "\n",
       "   payment_method_credit_card_automatic  payment_method_electronic_check  \\\n",
       "0                                     0                                1   \n",
       "1                                     0                                0   \n",
       "2                                     0                                0   \n",
       "3                                     0                                0   \n",
       "4                                     0                                1   \n",
       "\n",
       "   payment_method_mailed_check  \n",
       "0                            0  \n",
       "1                            1  \n",
       "2                            1  \n",
       "3                            0  \n",
       "4                            0  \n",
       "\n",
       "[5 rows x 27 columns]"
      ]
     },
     "execution_count": 22,
     "metadata": {},
     "output_type": "execute_result"
    }
   ],
   "source": [
    "df_clean.head()"
   ]
  },
  {
   "cell_type": "code",
   "execution_count": 23,
   "metadata": {
    "collapsed": false
   },
   "outputs": [
    {
     "data": {
      "text/plain": [
       "tenure                                   -0.352229\n",
       "contract_two_year                        -0.302253\n",
       "internet_service_no                      -0.227890\n",
       "total_charges                            -0.198324\n",
       "contract_one_year                        -0.177820\n",
       "online_security                          -0.171226\n",
       "tech_support                             -0.164674\n",
       "dependents                               -0.164221\n",
       "partner                                  -0.150448\n",
       "payment_method_credit_card_automatic     -0.134302\n",
       "internet_service_dsl                     -0.124214\n",
       "payment_method_bank_transfer_automatic   -0.117937\n",
       "payment_method_mailed_check              -0.091683\n",
       "online_backup                            -0.082255\n",
       "device_protection                        -0.066160\n",
       "gender                                   -0.008612\n",
       "phone_service                             0.011942\n",
       "multiple_lines                            0.040102\n",
       "streaming_movies                          0.061382\n",
       "streaming_tv                              0.063228\n",
       "senior_citizen                            0.150889\n",
       "paperless_billing                         0.191825\n",
       "monthly_charges                           0.193356\n",
       "payment_method_electronic_check           0.301919\n",
       "internet_service_fiber_optic              0.308020\n",
       "contract_month_to_month                   0.405103\n",
       "churn                                     1.000000\n",
       "Name: churn, dtype: float64"
      ]
     },
     "execution_count": 23,
     "metadata": {},
     "output_type": "execute_result"
    }
   ],
   "source": [
    "corr_matrix = df_clean.corr()\n",
    "corr_matrix['churn'].sort_values()"
   ]
  },
  {
   "cell_type": "code",
   "execution_count": 24,
   "metadata": {
    "collapsed": false
   },
   "outputs": [],
   "source": [
    "cols_to_drop = [\n",
    "    'payment_method_credit_card_automatic',\n",
    "    'internet_service_dsl',\n",
    "    'payment_method_bank_transfer_automatic',\n",
    "    'payment_method_mailed_check',\n",
    "    'online_backup', \n",
    "    'device_protection',\n",
    "    'gender',\n",
    "    'phone_service',\n",
    "    'multiple_lines',\n",
    "    'streaming_movies',\n",
    "    'streaming_tv'\n",
    "]\n",
    "\n",
    "df_clean = df_clean.drop(cols_to_drop, axis=1)"
   ]
  },
  {
   "cell_type": "code",
   "execution_count": 25,
   "metadata": {
    "collapsed": false
   },
   "outputs": [
    {
     "data": {
      "text/plain": [
       "tenure                            -0.352229\n",
       "contract_two_year                 -0.302253\n",
       "internet_service_no               -0.227890\n",
       "total_charges                     -0.198324\n",
       "contract_one_year                 -0.177820\n",
       "online_security                   -0.171226\n",
       "tech_support                      -0.164674\n",
       "dependents                        -0.164221\n",
       "partner                           -0.150448\n",
       "senior_citizen                     0.150889\n",
       "paperless_billing                  0.191825\n",
       "monthly_charges                    0.193356\n",
       "payment_method_electronic_check    0.301919\n",
       "internet_service_fiber_optic       0.308020\n",
       "contract_month_to_month            0.405103\n",
       "churn                              1.000000\n",
       "Name: churn, dtype: float64"
      ]
     },
     "execution_count": 25,
     "metadata": {},
     "output_type": "execute_result"
    }
   ],
   "source": [
    "corr_matrix = df_clean.corr()\n",
    "corr_matrix['churn'].sort_values()"
   ]
  },
  {
   "cell_type": "code",
   "execution_count": 26,
   "metadata": {
    "collapsed": false
   },
   "outputs": [
    {
     "data": {
      "image/png": "[encoded data removed]",
      "text/plain": [
       "<Figure size 720x720 with 2 Axes>"
      ]
     },
     "metadata": {},
     "output_type": "display_data"
    }
   ],
   "source": [
    "plt.figure(figsize=(10,10))\n",
    "sns.heatmap(corr_matrix, annot=True, fmt='.2f')\n",
    "plt.show()"
   ]
  },
  {
   "cell_type": "code",
   "execution_count": 27,
   "metadata": {
    "collapsed": true
   },
   "outputs": [],
   "source": [
    "# droping total_charges to avoid any issues with multicollinearity with tenure\n",
    "df_clean.drop('total_charges', axis=1, inplace=True)"
   ]
  },
  {
   "cell_type": "code",
   "execution_count": 28,
   "metadata": {
    "collapsed": false
   },
   "outputs": [
    {
     "data": {
      "text/plain": [
       "['senior_citizen',\n",
       " 'partner',\n",
       " 'dependents',\n",
       " 'online_security',\n",
       " 'tech_support',\n",
       " 'tenure',\n",
       " 'paperless_billing',\n",
       " 'monthly_charges',\n",
       " 'churn',\n",
       " 'internet_service_fiber_optic',\n",
       " 'internet_service_no',\n",
       " 'contract_month_to_month',\n",
       " 'contract_one_year',\n",
       " 'contract_two_year',\n",
       " 'payment_method_electronic_check']"
      ]
     },
     "execution_count": 28,
     "metadata": {},
     "output_type": "execute_result"
    }
   ],
   "source": [
    "final_columns = df_clean.columns.tolist()\n",
    "final_columns"
   ]
  },
  {
   "cell_type": "markdown",
   "metadata": {},
   "source": [
    "### Data Cleaning"
   ]
  },
  {
   "cell_type": "markdown",
   "metadata": {},
   "source": [
    "#### Use the final set of features to clean the dataframe"
   ]
  },
  {
   "cell_type": "code",
   "execution_count": 29,
   "metadata": {
    "collapsed": true
   },
   "outputs": [],
   "source": [
    "final_columns = [\n",
    "    'senior_citizen',\n",
    "    'partner',\n",
    "    'dependents',\n",
    "    'online_security',\n",
    "    'tech_support',\n",
    "    'tenure',\n",
    "    'paperless_billing',\n",
    "    'monthly_charges',\n",
    "    'churn',\n",
    "    'internet_service_fiber_optic',\n",
    "    'internet_service_no',\n",
    "    'contract_month_to_month',\n",
    "    'contract_one_year',\n",
    "    'contract_two_year',\n",
    "    'payment_method_electronic_check'\n",
    "]"
   ]
  },
  {
   "cell_type": "code",
   "execution_count": 30,
   "metadata": {
    "collapsed": false
   },
   "outputs": [],
   "source": [
    "def clean_data(df, cols):\n",
    "    boolean_cols = ['churn', 'senior_citizen', 'partner', 'dependents', 'online_security', \\\n",
    "                    'tech_support', 'paperless_billing']\n",
    "    for b in boolean_cols:\n",
    "        df[b] = np.where((df[b] == 'Yes') | (df[b] == 1), 1, 0)\n",
    "    \n",
    "    categorical_cols = ['internet_service', 'contract', 'payment_method']\n",
    "    dummies = pd.get_dummies(df[categorical_cols])\n",
    "    dummies.columns = [c.lower().replace(' ', '_').replace('-', '_').replace(')','').replace('(','') \\\n",
    "                       for c in dummies.columns]\n",
    "    \n",
    "    df = pd.concat([df, dummies], axis=1)\n",
    "    df = df[cols]\n",
    "\n",
    "    return df"
   ]
  },
  {
   "cell_type": "code",
   "execution_count": 31,
   "metadata": {
    "collapsed": false
   },
   "outputs": [
    {
     "name": "stdout",
     "output_type": "stream",
     "text": [
      "<class 'pandas.core.frame.DataFrame'>\n",
      "Int64Index: 7043 entries, 0 to 7042\n",
      "Data columns (total 15 columns):\n",
      " #   Column                           Non-Null Count  Dtype  \n",
      "---  ------                           --------------  -----  \n",
      " 0   senior_citizen                   7043 non-null   int64  \n",
      " 1   partner                          7043 non-null   int64  \n",
      " 2   dependents                       7043 non-null   int64  \n",
      " 3   online_security                  7043 non-null   int64  \n",
      " 4   tech_support                     7043 non-null   int64  \n",
      " 5   tenure                           7043 non-null   int64  \n",
      " 6   paperless_billing                7043 non-null   int64  \n",
      " 7   monthly_charges                  7043 non-null   float64\n",
      " 8   churn                            7043 non-null   int64  \n",
      " 9   internet_service_fiber_optic     7043 non-null   uint8  \n",
      " 10  internet_service_no              7043 non-null   uint8  \n",
      " 11  contract_month_to_month          7043 non-null   uint8  \n",
      " 12  contract_one_year                7043 non-null   uint8  \n",
      " 13  contract_two_year                7043 non-null   uint8  \n",
      " 14  payment_method_electronic_check  7043 non-null   uint8  \n",
      "dtypes: float64(1), int64(8), uint8(6)\n",
      "memory usage: 911.5 KB\n"
     ]
    }
   ],
   "source": [
    "df = clean_data(df, final_columns)\n",
    "df.info()"
   ]
  },
  {
   "cell_type": "markdown",
   "metadata": {},
   "source": [
    "### Data Exploration"
   ]
  },
  {
   "cell_type": "code",
   "execution_count": 32,
   "metadata": {
    "collapsed": false
   },
   "outputs": [
    {
     "name": "stdout",
     "output_type": "stream",
     "text": [
      "Churn rate: 26.54%\n"
     ]
    }
   ],
   "source": [
    "print('Churn rate: {:.2f}%'.format(100 * df.churn.value_counts()[1] / df.shape[0]))"
   ]
  },
  {
   "cell_type": "code",
   "execution_count": 33,
   "metadata": {
    "collapsed": false
   },
   "outputs": [
    {
     "data": {
      "text/plain": [
       "<AxesSubplot:>"
      ]
     },
     "execution_count": 33,
     "metadata": {},
     "output_type": "execute_result"
    },
    {
     "data": {
      "image/png": "[encoded data removed]",
      "text/plain": [
       "<Figure size 432x288 with 1 Axes>"
      ]
     },
     "metadata": {},
     "output_type": "display_data"
    }
   ],
   "source": [
    "df.churn.hist()"
   ]
  },
  {
   "cell_type": "markdown",
   "metadata": {},
   "source": [
    "A naive estimator that predicts the most common outcome (not churned) would have accuracy equal to the inverse of the churn rate (100% - 25.54% = 74.46%). This value can be used as a baseline result while building and testing models. The baseline result provides a meaningful reference point from which to compare estimators."
   ]
  },
  {
   "cell_type": "code",
   "execution_count": 34,
   "metadata": {
    "collapsed": false
   },
   "outputs": [
    {
     "data": {
      "text/html": [
       "<div>\n",
       "<style scoped>\n",
       "    .dataframe tbody tr th:only-of-type {\n",
       "        vertical-align: middle;\n",
       "    }\n",
       "\n",
       "    .dataframe tbody tr th {\n",
       "        vertical-align: top;\n",
       "    }\n",
       "\n",
       "    .dataframe thead th {\n",
       "        text-align: right;\n",
       "    }\n",
       "</style>\n",
       "<table border=\"1\" class=\"dataframe\">\n",
       "  <thead>\n",
       "    <tr style=\"text-align: right;\">\n",
       "      <th></th>\n",
       "      <th>senior_citizen</th>\n",
       "      <th>partner</th>\n",
       "      <th>dependents</th>\n",
       "      <th>online_security</th>\n",
       "      <th>tech_support</th>\n",
       "      <th>tenure</th>\n",
       "      <th>paperless_billing</th>\n",
       "      <th>monthly_charges</th>\n",
       "      <th>churn</th>\n",
       "      <th>internet_service_fiber_optic</th>\n",
       "      <th>internet_service_no</th>\n",
       "      <th>contract_month_to_month</th>\n",
       "      <th>contract_one_year</th>\n",
       "      <th>contract_two_year</th>\n",
       "      <th>payment_method_electronic_check</th>\n",
       "    </tr>\n",
       "  </thead>\n",
       "  <tbody>\n",
       "    <tr>\n",
       "      <th>count</th>\n",
       "      <td>7043.000000</td>\n",
       "      <td>7043.000000</td>\n",
       "      <td>7043.000000</td>\n",
       "      <td>7043.000000</td>\n",
       "      <td>7043.000000</td>\n",
       "      <td>7043.000000</td>\n",
       "      <td>7043.000000</td>\n",
       "      <td>7043.000000</td>\n",
       "      <td>7043.000000</td>\n",
       "      <td>7043.000000</td>\n",
       "      <td>7043.000000</td>\n",
       "      <td>7043.000000</td>\n",
       "      <td>7043.000000</td>\n",
       "      <td>7043.000000</td>\n",
       "      <td>7043.000000</td>\n",
       "    </tr>\n",
       "    <tr>\n",
       "      <th>mean</th>\n",
       "      <td>0.162147</td>\n",
       "      <td>0.483033</td>\n",
       "      <td>0.299588</td>\n",
       "      <td>0.286668</td>\n",
       "      <td>0.290217</td>\n",
       "      <td>32.371149</td>\n",
       "      <td>0.592219</td>\n",
       "      <td>64.761692</td>\n",
       "      <td>0.265370</td>\n",
       "      <td>0.439585</td>\n",
       "      <td>0.216669</td>\n",
       "      <td>0.550192</td>\n",
       "      <td>0.209144</td>\n",
       "      <td>0.240664</td>\n",
       "      <td>0.335794</td>\n",
       "    </tr>\n",
       "    <tr>\n",
       "      <th>std</th>\n",
       "      <td>0.368612</td>\n",
       "      <td>0.499748</td>\n",
       "      <td>0.458110</td>\n",
       "      <td>0.452237</td>\n",
       "      <td>0.453895</td>\n",
       "      <td>24.559481</td>\n",
       "      <td>0.491457</td>\n",
       "      <td>30.090047</td>\n",
       "      <td>0.441561</td>\n",
       "      <td>0.496372</td>\n",
       "      <td>0.412004</td>\n",
       "      <td>0.497510</td>\n",
       "      <td>0.406726</td>\n",
       "      <td>0.427517</td>\n",
       "      <td>0.472301</td>\n",
       "    </tr>\n",
       "    <tr>\n",
       "      <th>min</th>\n",
       "      <td>0.000000</td>\n",
       "      <td>0.000000</td>\n",
       "      <td>0.000000</td>\n",
       "      <td>0.000000</td>\n",
       "      <td>0.000000</td>\n",
       "      <td>0.000000</td>\n",
       "      <td>0.000000</td>\n",
       "      <td>18.250000</td>\n",
       "      <td>0.000000</td>\n",
       "      <td>0.000000</td>\n",
       "      <td>0.000000</td>\n",
       "      <td>0.000000</td>\n",
       "      <td>0.000000</td>\n",
       "      <td>0.000000</td>\n",
       "      <td>0.000000</td>\n",
       "    </tr>\n",
       "    <tr>\n",
       "      <th>25%</th>\n",
       "      <td>0.000000</td>\n",
       "      <td>0.000000</td>\n",
       "      <td>0.000000</td>\n",
       "      <td>0.000000</td>\n",
       "      <td>0.000000</td>\n",
       "      <td>9.000000</td>\n",
       "      <td>0.000000</td>\n",
       "      <td>35.500000</td>\n",
       "      <td>0.000000</td>\n",
       "      <td>0.000000</td>\n",
       "      <td>0.000000</td>\n",
       "      <td>0.000000</td>\n",
       "      <td>0.000000</td>\n",
       "      <td>0.000000</td>\n",
       "      <td>0.000000</td>\n",
       "    </tr>\n",
       "    <tr>\n",
       "      <th>50%</th>\n",
       "      <td>0.000000</td>\n",
       "      <td>0.000000</td>\n",
       "      <td>0.000000</td>\n",
       "      <td>0.000000</td>\n",
       "      <td>0.000000</td>\n",
       "      <td>29.000000</td>\n",
       "      <td>1.000000</td>\n",
       "      <td>70.350000</td>\n",
       "      <td>0.000000</td>\n",
       "      <td>0.000000</td>\n",
       "      <td>0.000000</td>\n",
       "      <td>1.000000</td>\n",
       "      <td>0.000000</td>\n",
       "      <td>0.000000</td>\n",
       "      <td>0.000000</td>\n",
       "    </tr>\n",
       "    <tr>\n",
       "      <th>75%</th>\n",
       "      <td>0.000000</td>\n",
       "      <td>1.000000</td>\n",
       "      <td>1.000000</td>\n",
       "      <td>1.000000</td>\n",
       "      <td>1.000000</td>\n",
       "      <td>55.000000</td>\n",
       "      <td>1.000000</td>\n",
       "      <td>89.850000</td>\n",
       "      <td>1.000000</td>\n",
       "      <td>1.000000</td>\n",
       "      <td>0.000000</td>\n",
       "      <td>1.000000</td>\n",
       "      <td>0.000000</td>\n",
       "      <td>0.000000</td>\n",
       "      <td>1.000000</td>\n",
       "    </tr>\n",
       "    <tr>\n",
       "      <th>max</th>\n",
       "      <td>1.000000</td>\n",
       "      <td>1.000000</td>\n",
       "      <td>1.000000</td>\n",
       "      <td>1.000000</td>\n",
       "      <td>1.000000</td>\n",
       "      <td>72.000000</td>\n",
       "      <td>1.000000</td>\n",
       "      <td>118.750000</td>\n",
       "      <td>1.000000</td>\n",
       "      <td>1.000000</td>\n",
       "      <td>1.000000</td>\n",
       "      <td>1.000000</td>\n",
       "      <td>1.000000</td>\n",
       "      <td>1.000000</td>\n",
       "      <td>1.000000</td>\n",
       "    </tr>\n",
       "  </tbody>\n",
       "</table>\n",
       "</div>"
      ],
      "text/plain": [
       "       senior_citizen      partner   dependents  online_security  \\\n",
       "count     7043.000000  7043.000000  7043.000000      7043.000000   \n",
       "mean         0.162147     0.483033     0.299588         0.286668   \n",
       "std          0.368612     0.499748     0.458110         0.452237   \n",
       "min          0.000000     0.000000     0.000000         0.000000   \n",
       "25%          0.000000     0.000000     0.000000         0.000000   \n",
       "50%          0.000000     0.000000     0.000000         0.000000   \n",
       "75%          0.000000     1.000000     1.000000         1.000000   \n",
       "max          1.000000     1.000000     1.000000         1.000000   \n",
       "\n",
       "       tech_support       tenure  paperless_billing  monthly_charges  \\\n",
       "count   7043.000000  7043.000000        7043.000000      7043.000000   \n",
       "mean       0.290217    32.371149           0.592219        64.761692   \n",
       "std        0.453895    24.559481           0.491457        30.090047   \n",
       "min        0.000000     0.000000           0.000000        18.250000   \n",
       "25%        0.000000     9.000000           0.000000        35.500000   \n",
       "50%        0.000000    29.000000           1.000000        70.350000   \n",
       "75%        1.000000    55.000000           1.000000        89.850000   \n",
       "max        1.000000    72.000000           1.000000       118.750000   \n",
       "\n",
       "             churn  internet_service_fiber_optic  internet_service_no  \\\n",
       "count  7043.000000                   7043.000000          7043.000000   \n",
       "mean      0.265370                      0.439585             0.216669   \n",
       "std       0.441561                      0.496372             0.412004   \n",
       "min       0.000000                      0.000000             0.000000   \n",
       "25%       0.000000                      0.000000             0.000000   \n",
       "50%       0.000000                      0.000000             0.000000   \n",
       "75%       1.000000                      1.000000             0.000000   \n",
       "max       1.000000                      1.000000             1.000000   \n",
       "\n",
       "       contract_month_to_month  contract_one_year  contract_two_year  \\\n",
       "count              7043.000000        7043.000000        7043.000000   \n",
       "mean                  0.550192           0.209144           0.240664   \n",
       "std                   0.497510           0.406726           0.427517   \n",
       "min                   0.000000           0.000000           0.000000   \n",
       "25%                   0.000000           0.000000           0.000000   \n",
       "50%                   1.000000           0.000000           0.000000   \n",
       "75%                   1.000000           0.000000           0.000000   \n",
       "max                   1.000000           1.000000           1.000000   \n",
       "\n",
       "       payment_method_electronic_check  \n",
       "count                      7043.000000  \n",
       "mean                          0.335794  \n",
       "std                           0.472301  \n",
       "min                           0.000000  \n",
       "25%                           0.000000  \n",
       "50%                           0.000000  \n",
       "75%                           1.000000  \n",
       "max                           1.000000  "
      ]
     },
     "execution_count": 34,
     "metadata": {},
     "output_type": "execute_result"
    }
   ],
   "source": [
    "df.describe()"
   ]
  },
  {
   "cell_type": "code",
   "execution_count": 35,
   "metadata": {
    "collapsed": false
   },
   "outputs": [
    {
     "data": {
      "text/html": [
       "<div>\n",
       "<style scoped>\n",
       "    .dataframe tbody tr th:only-of-type {\n",
       "        vertical-align: middle;\n",
       "    }\n",
       "\n",
       "    .dataframe tbody tr th {\n",
       "        vertical-align: top;\n",
       "    }\n",
       "\n",
       "    .dataframe thead th {\n",
       "        text-align: right;\n",
       "    }\n",
       "</style>\n",
       "<table border=\"1\" class=\"dataframe\">\n",
       "  <thead>\n",
       "    <tr style=\"text-align: right;\">\n",
       "      <th></th>\n",
       "      <th>tenure</th>\n",
       "      <th>monthly_charges</th>\n",
       "    </tr>\n",
       "    <tr>\n",
       "      <th>churn</th>\n",
       "      <th></th>\n",
       "      <th></th>\n",
       "    </tr>\n",
       "  </thead>\n",
       "  <tbody>\n",
       "    <tr>\n",
       "      <th>0</th>\n",
       "      <td>37.569965</td>\n",
       "      <td>61.265124</td>\n",
       "    </tr>\n",
       "    <tr>\n",
       "      <th>1</th>\n",
       "      <td>17.979133</td>\n",
       "      <td>74.441332</td>\n",
       "    </tr>\n",
       "  </tbody>\n",
       "</table>\n",
       "</div>"
      ],
      "text/plain": [
       "          tenure  monthly_charges\n",
       "churn                            \n",
       "0      37.569965        61.265124\n",
       "1      17.979133        74.441332"
      ]
     },
     "execution_count": 35,
     "metadata": {},
     "output_type": "execute_result"
    }
   ],
   "source": [
    "df.groupby('churn')[['tenure', 'monthly_charges']].mean()"
   ]
  },
  {
   "cell_type": "markdown",
   "metadata": {},
   "source": [
    "- Not surprisingly, customers with higher tenure churn less often than customers with lower tenure\n",
    "- Average monthly charges are $13 more for churned customers than current customers"
   ]
  },
  {
   "cell_type": "code",
   "execution_count": 36,
   "metadata": {
    "collapsed": false
   },
   "outputs": [
    {
     "data": {
      "text/html": [
       "<div>\n",
       "<style scoped>\n",
       "    .dataframe tbody tr th:only-of-type {\n",
       "        vertical-align: middle;\n",
       "    }\n",
       "\n",
       "    .dataframe tbody tr th {\n",
       "        vertical-align: top;\n",
       "    }\n",
       "\n",
       "    .dataframe thead th {\n",
       "        text-align: right;\n",
       "    }\n",
       "</style>\n",
       "<table border=\"1\" class=\"dataframe\">\n",
       "  <thead>\n",
       "    <tr style=\"text-align: right;\">\n",
       "      <th></th>\n",
       "      <th>tenure</th>\n",
       "      <th>monthly_charges</th>\n",
       "      <th>churn</th>\n",
       "    </tr>\n",
       "    <tr>\n",
       "      <th>senior_citizen</th>\n",
       "      <th></th>\n",
       "      <th></th>\n",
       "      <th></th>\n",
       "    </tr>\n",
       "  </thead>\n",
       "  <tbody>\n",
       "    <tr>\n",
       "      <th>0</th>\n",
       "      <td>32.192171</td>\n",
       "      <td>61.847441</td>\n",
       "      <td>0.236062</td>\n",
       "    </tr>\n",
       "    <tr>\n",
       "      <th>1</th>\n",
       "      <td>33.295972</td>\n",
       "      <td>79.820359</td>\n",
       "      <td>0.416813</td>\n",
       "    </tr>\n",
       "  </tbody>\n",
       "</table>\n",
       "</div>"
      ],
      "text/plain": [
       "                   tenure  monthly_charges     churn\n",
       "senior_citizen                                      \n",
       "0               32.192171        61.847441  0.236062\n",
       "1               33.295972        79.820359  0.416813"
      ]
     },
     "execution_count": 36,
     "metadata": {},
     "output_type": "execute_result"
    }
   ],
   "source": [
    "df.groupby('senior_citizen')[['tenure', 'monthly_charges', 'churn']].mean()"
   ]
  },
  {
   "cell_type": "markdown",
   "metadata": {},
   "source": [
    "- senior citizens are almost twice as likely to churn as younger customers\n",
    "- senior citizen are charged $18 more per month on average"
   ]
  },
  {
   "cell_type": "code",
   "execution_count": 37,
   "metadata": {
    "collapsed": false
   },
   "outputs": [
    {
     "data": {
      "text/html": [
       "<div>\n",
       "<style scoped>\n",
       "    .dataframe tbody tr th:only-of-type {\n",
       "        vertical-align: middle;\n",
       "    }\n",
       "\n",
       "    .dataframe tbody tr th {\n",
       "        vertical-align: top;\n",
       "    }\n",
       "\n",
       "    .dataframe thead th {\n",
       "        text-align: right;\n",
       "    }\n",
       "</style>\n",
       "<table border=\"1\" class=\"dataframe\">\n",
       "  <thead>\n",
       "    <tr style=\"text-align: right;\">\n",
       "      <th></th>\n",
       "      <th>tenure</th>\n",
       "      <th>monthly_charges</th>\n",
       "      <th>churn</th>\n",
       "    </tr>\n",
       "    <tr>\n",
       "      <th>tech_support</th>\n",
       "      <th></th>\n",
       "      <th></th>\n",
       "      <th></th>\n",
       "    </tr>\n",
       "  </thead>\n",
       "  <tbody>\n",
       "    <tr>\n",
       "      <th>0</th>\n",
       "      <td>27.279856</td>\n",
       "      <td>58.252931</td>\n",
       "      <td>0.311862</td>\n",
       "    </tr>\n",
       "    <tr>\n",
       "      <th>1</th>\n",
       "      <td>44.822896</td>\n",
       "      <td>80.680137</td>\n",
       "      <td>0.151663</td>\n",
       "    </tr>\n",
       "  </tbody>\n",
       "</table>\n",
       "</div>"
      ],
      "text/plain": [
       "                 tenure  monthly_charges     churn\n",
       "tech_support                                      \n",
       "0             27.279856        58.252931  0.311862\n",
       "1             44.822896        80.680137  0.151663"
      ]
     },
     "execution_count": 37,
     "metadata": {},
     "output_type": "execute_result"
    }
   ],
   "source": [
    "df.groupby('tech_support')[['tenure', 'monthly_charges', 'churn']].mean()"
   ]
  },
  {
   "cell_type": "markdown",
   "metadata": {},
   "source": [
    "- even though their monthly charges are higher, customers who opt for tech support are half as likely to churn"
   ]
  },
  {
   "cell_type": "code",
   "execution_count": 38,
   "metadata": {
    "collapsed": false
   },
   "outputs": [
    {
     "data": {
      "text/html": [
       "<div>\n",
       "<style scoped>\n",
       "    .dataframe tbody tr th:only-of-type {\n",
       "        vertical-align: middle;\n",
       "    }\n",
       "\n",
       "    .dataframe tbody tr th {\n",
       "        vertical-align: top;\n",
       "    }\n",
       "\n",
       "    .dataframe thead th {\n",
       "        text-align: right;\n",
       "    }\n",
       "</style>\n",
       "<table border=\"1\" class=\"dataframe\">\n",
       "  <thead>\n",
       "    <tr style=\"text-align: right;\">\n",
       "      <th></th>\n",
       "      <th>tenure</th>\n",
       "      <th>monthly_charges</th>\n",
       "      <th>churn</th>\n",
       "    </tr>\n",
       "    <tr>\n",
       "      <th>contract_month_to_month</th>\n",
       "      <th></th>\n",
       "      <th></th>\n",
       "      <th></th>\n",
       "    </tr>\n",
       "  </thead>\n",
       "  <tbody>\n",
       "    <tr>\n",
       "      <th>0</th>\n",
       "      <td>49.904672</td>\n",
       "      <td>62.759612</td>\n",
       "      <td>0.067551</td>\n",
       "    </tr>\n",
       "    <tr>\n",
       "      <th>1</th>\n",
       "      <td>18.036645</td>\n",
       "      <td>66.398490</td>\n",
       "      <td>0.427097</td>\n",
       "    </tr>\n",
       "  </tbody>\n",
       "</table>\n",
       "</div>"
      ],
      "text/plain": [
       "                            tenure  monthly_charges     churn\n",
       "contract_month_to_month                                      \n",
       "0                        49.904672        62.759612  0.067551\n",
       "1                        18.036645        66.398490  0.427097"
      ]
     },
     "execution_count": 38,
     "metadata": {},
     "output_type": "execute_result"
    }
   ],
   "source": [
    "df.groupby('contract_month_to_month')[['tenure', 'monthly_charges', 'churn']].mean()"
   ]
  },
  {
   "cell_type": "markdown",
   "metadata": {},
   "source": [
    "- customers with month-to-month contracts are much more likely to churn than customers with one or two-year contracts"
   ]
  },
  {
   "cell_type": "code",
   "execution_count": 39,
   "metadata": {
    "collapsed": false
   },
   "outputs": [
    {
     "data": {
      "text/html": [
       "<div>\n",
       "<style scoped>\n",
       "    .dataframe tbody tr th:only-of-type {\n",
       "        vertical-align: middle;\n",
       "    }\n",
       "\n",
       "    .dataframe tbody tr th {\n",
       "        vertical-align: top;\n",
       "    }\n",
       "\n",
       "    .dataframe thead th {\n",
       "        text-align: right;\n",
       "    }\n",
       "</style>\n",
       "<table border=\"1\" class=\"dataframe\">\n",
       "  <thead>\n",
       "    <tr style=\"text-align: right;\">\n",
       "      <th></th>\n",
       "      <th>tenure</th>\n",
       "      <th>monthly_charges</th>\n",
       "      <th>churn</th>\n",
       "    </tr>\n",
       "    <tr>\n",
       "      <th>payment_method_electronic_check</th>\n",
       "      <th></th>\n",
       "      <th></th>\n",
       "      <th></th>\n",
       "    </tr>\n",
       "  </thead>\n",
       "  <tbody>\n",
       "    <tr>\n",
       "      <th>0</th>\n",
       "      <td>36.009406</td>\n",
       "      <td>58.950748</td>\n",
       "      <td>0.170586</td>\n",
       "    </tr>\n",
       "    <tr>\n",
       "      <th>1</th>\n",
       "      <td>25.174630</td>\n",
       "      <td>76.255814</td>\n",
       "      <td>0.452854</td>\n",
       "    </tr>\n",
       "  </tbody>\n",
       "</table>\n",
       "</div>"
      ],
      "text/plain": [
       "                                    tenure  monthly_charges     churn\n",
       "payment_method_electronic_check                                      \n",
       "0                                36.009406        58.950748  0.170586\n",
       "1                                25.174630        76.255814  0.452854"
      ]
     },
     "execution_count": 39,
     "metadata": {},
     "output_type": "execute_result"
    }
   ],
   "source": [
    "df.groupby('payment_method_electronic_check')[['tenure', 'monthly_charges', 'churn']].mean()"
   ]
  },
  {
   "cell_type": "code",
   "execution_count": 40,
   "metadata": {
    "collapsed": false
   },
   "outputs": [
    {
     "data": {
      "text/plain": [
       "0    4678\n",
       "1    2365\n",
       "Name: payment_method_electronic_check, dtype: int64"
      ]
     },
     "execution_count": 40,
     "metadata": {},
     "output_type": "execute_result"
    }
   ],
   "source": [
    "df.payment_method_electronic_check.value_counts()"
   ]
  },
  {
   "cell_type": "markdown",
   "metadata": {},
   "source": [
    "- customers that pay by electonic check have higher monthly charges but are much more likely to churn"
   ]
  },
  {
   "cell_type": "code",
   "execution_count": 41,
   "metadata": {
    "collapsed": false
   },
   "outputs": [
    {
     "data": {
      "image/png": "[encoded data removed]",
      "text/plain": [
       "<Figure size 576x576 with 1 Axes>"
      ]
     },
     "metadata": {},
     "output_type": "display_data"
    }
   ],
   "source": [
    "fig = plt.figure(figsize=(8,8))\n",
    "ax = fig.add_subplot(111)\n",
    "\n",
    "tenure_churn = df.tenure[df.churn == 1]\n",
    "tenure_active = df.tenure[df.churn == 0]\n",
    "\n",
    "ax.hist(tenure_churn.values, color='b', alpha=0.5, bins=20, label='churn')\n",
    "ax.hist(tenure_active.values, color='g', alpha=0.5, bins=20, label='not churned')\n",
    "\n",
    "ax.set_xlabel('Tenure', fontsize=14)\n",
    "ax.set_ylabel('Frequency', fontsize=14)\n",
    "ax.set_title('Tenure by Churn Status', fontsize=18)\n",
    "ax.legend(fontsize=12)\n",
    "\n",
    "plt.tight_layout()"
   ]
  },
  {
   "cell_type": "markdown",
   "metadata": {},
   "source": [
    "### Data Transformation"
   ]
  },
  {
   "cell_type": "code",
   "execution_count": 42,
   "metadata": {
    "collapsed": false
   },
   "outputs": [],
   "source": [
    "y = df.pop('churn')\n",
    "X = df"
   ]
  },
  {
   "cell_type": "code",
   "execution_count": 43,
   "metadata": {
    "collapsed": false
   },
   "outputs": [],
   "source": [
    "numeric_features = ['tenure', 'monthly_charges']\n",
    "boolean_features = [c for c in X.columns if c not in numeric_features]"
   ]
  },
  {
   "cell_type": "code",
   "execution_count": 44,
   "metadata": {
    "collapsed": false
   },
   "outputs": [],
   "source": [
    "# split data into training and test sets, stratify by target variable\n",
    "X_train, X_test, y_train, y_test = train_test_split(X, y, train_size=0.8, random_state=42, stratify=y)"
   ]
  },
  {
   "cell_type": "code",
   "execution_count": 45,
   "metadata": {
    "collapsed": true
   },
   "outputs": [],
   "source": [
    "boolean_transformer = Pipeline(steps=[\n",
    "    ('imputer', SimpleImputer(strategy='constant', fill_value=0)),\n",
    "])\n",
    "\n",
    "numeric_transformer = Pipeline(steps=[\n",
    "    ('imputer', SimpleImputer(strategy='median')),\n",
    "    ('scaler', StandardScaler())\n",
    "])\n",
    "\n",
    "preprocessor = ColumnTransformer(\n",
    "    transformers=[\n",
    "        ('bool', boolean_transformer, boolean_features),\n",
    "        ('num', numeric_transformer, numeric_features)\n",
    "    ])"
   ]
  },
  {
   "cell_type": "markdown",
   "metadata": {},
   "source": [
    "### Model Testing"
   ]
  },
  {
   "cell_type": "markdown",
   "metadata": {},
   "source": [
    "#### Logistic Regression"
   ]
  },
  {
   "cell_type": "code",
   "execution_count": 46,
   "metadata": {
    "collapsed": true
   },
   "outputs": [],
   "source": [
    "logreg = LogisticRegression(random_state=1)\n",
    "\n",
    "logreg_pipeline = Pipeline(steps=[\n",
    "    ('p', preprocessor),\n",
    "    ('m', logreg)\n",
    "])"
   ]
  },
  {
   "cell_type": "code",
   "execution_count": 47,
   "metadata": {
    "collapsed": false
   },
   "outputs": [
    {
     "name": "stdout",
     "output_type": "stream",
     "text": [
      "Logistic Regression mean CV accuracy: 79.907534%\n"
     ]
    }
   ],
   "source": [
    "logreg_scores = cross_val_score(logreg_pipeline, X_train, y_train, scoring='accuracy')\n",
    "print('Logistic Regression mean CV accuracy: {:2f}%'.format(np.mean(logreg_scores) * 100))"
   ]
  },
  {
   "cell_type": "markdown",
   "metadata": {},
   "source": [
    "#### Random Forest Classifier"
   ]
  },
  {
   "cell_type": "code",
   "execution_count": 48,
   "metadata": {
    "collapsed": true
   },
   "outputs": [],
   "source": [
    "rf_clf = RandomForestClassifier(n_jobs=-2, random_state=1)\n",
    "\n",
    "rf_pipeline = Pipeline(steps=[\n",
    "    ('p', preprocessor),\n",
    "    ('m', rf_clf)\n",
    "])"
   ]
  },
  {
   "cell_type": "code",
   "execution_count": 49,
   "metadata": {
    "collapsed": false
   },
   "outputs": [
    {
     "name": "stdout",
     "output_type": "stream",
     "text": [
      "Random Forest mean CV accuracy: 78.168104%\n"
     ]
    }
   ],
   "source": [
    "rf_scores = cross_val_score(rf_pipeline, X_train, y_train, scoring='accuracy')\n",
    "print('Random Forest mean CV accuracy: {:2f}%'.format(np.mean(rf_scores) * 100))"
   ]
  },
  {
   "cell_type": "markdown",
   "metadata": {},
   "source": [
    "### Hyperparameter Tuning\n",
    "#### Run a gridsearch to determine best parameters"
   ]
  },
  {
   "cell_type": "code",
   "execution_count": 50,
   "metadata": {
    "collapsed": false
   },
   "outputs": [],
   "source": [
    "def run_gridsearch(model, param_grid, X, y, scoring='accuracy', cv=5, n_jobs=1, verbose=1):\n",
    "    gs = GridSearchCV(\n",
    "        model,\n",
    "        param_grid,\n",
    "        n_jobs=n_jobs,\n",
    "        verbose=verbose,\n",
    "        scoring=scoring,\n",
    "        cv=cv\n",
    "    )\n",
    "    \n",
    "    gs.fit(X,y)\n",
    "    best_params = gs.best_params_\n",
    "    best_model = gs.best_estimator_\n",
    "    \n",
    "    print('\\nResults of Gridsearch:')\n",
    "    print('{0:<40s} | {1:<20s} | {2}'.format('Parameter', 'Optimal', 'GS Values'))\n",
    "    print('-' * 80)\n",
    "    for param, vals in param_grid.items():\n",
    "        print('{0:<40s} | {1:<20s} | {2}'.format(str(param), str(best_params[param]), str(vals)))\n",
    "              \n",
    "    return best_model"
   ]
  },
  {
   "cell_type": "code",
   "execution_count": 51,
   "metadata": {
    "collapsed": true
   },
   "outputs": [],
   "source": [
    "logreg_params = {\n",
    "    'm__C': [0.01, 0.1, 1, 10, 100],\n",
    "    'm__tol': [0.0001, 0.001, 0.001, 0.01],\n",
    "    'm__class_weight': ['balanced', None],\n",
    "    'm__max_iter': [100, 200, 500]\n",
    "}"
   ]
  },
  {
   "cell_type": "code",
   "execution_count": 52,
   "metadata": {
    "collapsed": true
   },
   "outputs": [],
   "source": [
    "rf_params = {\n",
    "    'm__n_estimators': [200, 500],\n",
    "    'm__max_depth': [6, 8],\n",
    "    'm__min_samples_split': [2, 5, 10],\n",
    "    'm__min_samples_leaf': [1, 2, 10],\n",
    "    'm__class_weight': ['balanced', None]\n",
    "}"
   ]
  },
  {
   "cell_type": "code",
   "execution_count": 53,
   "metadata": {
    "collapsed": false
   },
   "outputs": [
    {
     "name": "stdout",
     "output_type": "stream",
     "text": [
      "Fitting 5 folds for each of 120 candidates, totalling 600 fits\n",
      "\n",
      "Results of Gridsearch:\n",
      "Parameter                                | Optimal              | GS Values\n",
      "--------------------------------------------------------------------------------\n",
      "m__C                                     | 0.1                  | [0.01, 0.1, 1, 10, 100]\n",
      "m__tol                                   | 0.0001               | [0.0001, 0.001, 0.001, 0.01]\n",
      "m__class_weight                          | None                 | ['balanced', None]\n",
      "m__max_iter                              | 100                  | [100, 200, 500]\n"
     ]
    }
   ],
   "source": [
    "logreg_best = run_gridsearch(\n",
    "    logreg_pipeline,\n",
    "    logreg_params,\n",
    "    X_train,\n",
    "    y_train\n",
    ")"
   ]
  },
  {
   "cell_type": "code",
   "execution_count": 54,
   "metadata": {
    "collapsed": false
   },
   "outputs": [
    {
     "name": "stdout",
     "output_type": "stream",
     "text": [
      "Fitting 5 folds for each of 72 candidates, totalling 360 fits\n",
      "\n",
      "Results of Gridsearch:\n",
      "Parameter                                | Optimal              | GS Values\n",
      "--------------------------------------------------------------------------------\n",
      "m__n_estimators                          | 200                  | [200, 500]\n",
      "m__max_depth                             | 8                    | [6, 8]\n",
      "m__min_samples_split                     | 10                   | [2, 5, 10]\n",
      "m__min_samples_leaf                      | 1                    | [1, 2, 10]\n",
      "m__class_weight                          | None                 | ['balanced', None]\n"
     ]
    }
   ],
   "source": [
    "rf_best = run_gridsearch(\n",
    "    rf_pipeline,\n",
    "    rf_params,\n",
    "    X_train,\n",
    "    y_train\n",
    ")"
   ]
  },
  {
   "cell_type": "markdown",
   "metadata": {},
   "source": [
    "#### Scoring best models on test set"
   ]
  },
  {
   "cell_type": "code",
   "execution_count": 55,
   "metadata": {
    "collapsed": false
   },
   "outputs": [
    {
     "name": "stdout",
     "output_type": "stream",
     "text": [
      "              precision    recall  f1-score   support\n",
      "\n",
      "           0       0.84      0.89      0.87      1035\n",
      "           1       0.65      0.53      0.58       374\n",
      "\n",
      "    accuracy                           0.80      1409\n",
      "   macro avg       0.74      0.71      0.73      1409\n",
      "weighted avg       0.79      0.80      0.79      1409\n",
      "\n"
     ]
    }
   ],
   "source": [
    "print(classification_report(y_test, logreg_best.predict(X_test)))"
   ]
  },
  {
   "cell_type": "code",
   "execution_count": 56,
   "metadata": {
    "collapsed": false
   },
   "outputs": [
    {
     "name": "stdout",
     "output_type": "stream",
     "text": [
      "              precision    recall  f1-score   support\n",
      "\n",
      "           0       0.84      0.91      0.87      1035\n",
      "           1       0.67      0.53      0.59       374\n",
      "\n",
      "    accuracy                           0.81      1409\n",
      "   macro avg       0.76      0.72      0.73      1409\n",
      "weighted avg       0.80      0.81      0.80      1409\n",
      "\n"
     ]
    }
   ],
   "source": [
    "print(classification_report(y_test, rf_best.predict(X_test)))"
   ]
  },
  {
   "cell_type": "code",
   "execution_count": null,
   "metadata": {
    "collapsed": true
   },
   "outputs": [],
   "source": []
  }
 ],
 "metadata": {
  "kernelspec": {
   "display_name": "Python 3",
   "language": "python",
   "name": "python3"
  },
  "language_info": {
   "codemirror_mode": {
    "name": "ipython",
    "version": 3
   },
   "file_extension": ".py",
   "mimetype": "text/x-python",
   "name": "python",
   "nbconvert_exporter": "python",
   "pygments_lexer": "ipython3",
   "version": "3.6.2"
  }
 },
 "nbformat": 4,
 "nbformat_minor": 2
}
